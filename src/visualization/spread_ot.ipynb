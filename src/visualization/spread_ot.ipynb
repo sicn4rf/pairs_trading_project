{
 "cells": [
  {
   "cell_type": "markdown",
   "id": "89791d11",
   "metadata": {},
   "source": [
    "# Spread Between Pairs Over Time\n",
    "#### > Visualize spread between a pair of cointegrated stocks. Choose from dropdown menu."
   ]
  },
  {
   "cell_type": "code",
   "execution_count": 6,
   "id": "022350f5",
   "metadata": {},
   "outputs": [],
   "source": [
    "# import necessary libraries\n",
    "\n",
    "import pandas as pd\n",
    "import os\n",
    "import matplotlib.pyplot as plt\n",
    "import seaborn as sns\n",
    "import ipywidgets as widgets\n",
    "from ipywidgets import interact, Dropdown"
   ]
  },
  {
   "cell_type": "markdown",
   "id": "adc142f6",
   "metadata": {},
   "source": [
    "Setup data for reading"
   ]
  },
  {
   "cell_type": "code",
   "execution_count": 7,
   "id": "63b58324",
   "metadata": {},
   "outputs": [],
   "source": [
    "# set up a directory to successes folder. this folder contains cointegrated pairs\n",
    "data_directory = \"../../data/processed/successes/\"\n",
    "\n",
    "# set up a list of .csv file names\n",
    "csv_files = []\n",
    "for file in os.listdir(data_directory):\n",
    "    if file.endswith(\".csv\"):\n",
    "        csv_files.append(file)"
   ]
  },
  {
   "cell_type": "markdown",
   "id": "382a972d",
   "metadata": {},
   "source": [
    "Define the function to plot the spread, which will be called by the dropdown menu"
   ]
  },
  {
   "cell_type": "code",
   "execution_count": 8,
   "id": "28d49b3e",
   "metadata": {},
   "outputs": [],
   "source": [
    "def plot_spread(file_name):\n",
    "    current_name = file_name.replace(\".csv\", \"\")\n",
    "    stock1, stock2 = current_name.split(\"_\")\n",
    "\n",
    "    file_path = os.path.join(data_directory, file_name)\n",
    "\n",
    "    data_frame = pd.read_csv(file_path)\n",
    "\n",
    "    mean_spread = data_frame['Spread'].mean()\n",
    "\n",
    "    # set figure size 12x6\n",
    "    plt.figure(figsize=(12,6))\n",
    "\n",
    "    # plot a horizontal line representing the mean\n",
    "    plt.axhline(mean_spread, linestyle='--', label='Mean', color=\"#DA4343\")\n",
    "\n",
    "\n",
    "    # plot a graph where the dates column in our df are the x values, and spread column are the y values\n",
    "    plt.plot(data_frame['Date'], data_frame['Spread'], label='Spread', color=\"#5f70f2\")\n",
    "\n",
    "    # remove padding\n",
    "    plt.xlim(data_frame.index.min(), data_frame.index.max())\n",
    "\n",
    "    # set x-axis ticker labels to only display every 10 values\n",
    "    plt.xticks(data_frame['Date'][::10], rotation=45)\n",
    "\n",
    "    # set titles and labels for the graph\n",
    "    plt.title(f\"Spread Between {stock1} and {stock2} Over time\")\n",
    "    plt.xlabel(\"Date\")\n",
    "    plt.ylabel(\"Raw Price Spread\")\n",
    "\n",
    "    # describe what the lines mean\n",
    "    plt.legend(loc=\"upper center\")\n",
    "\n",
    "    #make background thinner and use differnt line style\n",
    "    sns.set_style(\"whitegrid\")\n",
    "    plt.grid(True, linestyle=\"--\", alpha=0.5)\n",
    "    plt.style.use('seaborn-v0_8-whitegrid')\n",
    "\n",
    "    # adjust layout to fit\n",
    "    plt.tight_layout\n",
    "    plt.show()\n"
   ]
  },
  {
   "cell_type": "code",
   "execution_count": null,
   "id": "7e3cfc9e",
   "metadata": {},
   "outputs": [],
   "source": [
    "dropdown_choice = Dropdown(options=csv_files, description='Select a cointegrated pair to graph: ', layout=widgets.Layout(width='375px'), style={'description_width': 'auto'})"
   ]
  },
  {
   "cell_type": "code",
   "execution_count": null,
   "id": "5f187d80",
   "metadata": {},
   "outputs": [
    {
     "data": {
      "application/vnd.jupyter.widget-view+json": {
       "model_id": "04f0776ef6a64704995c9a05c53f9696",
       "version_major": 2,
       "version_minor": 0
      },
      "text/plain": [
       "interactive(children=(Dropdown(description='Select a cointegrated pair to graph: ', layout=Layout(width='375px…"
      ]
     },
     "metadata": {},
     "output_type": "display_data"
    },
    {
     "data": {
      "text/plain": [
       "<function __main__.plot_spread(file_name)>"
      ]
     },
     "execution_count": 10,
     "metadata": {},
     "output_type": "execute_result"
    }
   ],
   "source": [
    "interact(plot_spread, file_name=dropdown_choice)"
   ]
  }
 ],
 "metadata": {
  "kernelspec": {
   "display_name": "base",
   "language": "python",
   "name": "python3"
  },
  "language_info": {
   "codemirror_mode": {
    "name": "ipython",
    "version": 3
   },
   "file_extension": ".py",
   "mimetype": "text/x-python",
   "name": "python",
   "nbconvert_exporter": "python",
   "pygments_lexer": "ipython3",
   "version": "3.12.7"
  }
 },
 "nbformat": 4,
 "nbformat_minor": 5
}
